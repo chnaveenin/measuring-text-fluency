{
 "cells": [
  {
   "cell_type": "code",
   "execution_count": 1,
   "metadata": {},
   "outputs": [
    {
     "name": "stderr",
     "output_type": "stream",
     "text": [
      "/Library/Frameworks/Python.framework/Versions/3.12/lib/python3.12/site-packages/tqdm/auto.py:21: TqdmWarning: IProgress not found. Please update jupyter and ipywidgets. See https://ipywidgets.readthedocs.io/en/stable/user_install.html\n",
      "  from .autonotebook import tqdm as notebook_tqdm\n",
      "Some weights of the model checkpoint at bert-base-uncased were not used when initializing BertForMaskedLM: ['bert.pooler.dense.bias', 'bert.pooler.dense.weight', 'cls.seq_relationship.bias', 'cls.seq_relationship.weight']\n",
      "- This IS expected if you are initializing BertForMaskedLM from the checkpoint of a model trained on another task or with another architecture (e.g. initializing a BertForSequenceClassification model from a BertForPreTraining model).\n",
      "- This IS NOT expected if you are initializing BertForMaskedLM from the checkpoint of a model that you expect to be exactly identical (initializing a BertForSequenceClassification model from a BertForSequenceClassification model).\n"
     ]
    }
   ],
   "source": [
    "from measure_slor import compute_slor"
   ]
  },
  {
   "cell_type": "code",
   "execution_count": 2,
   "metadata": {},
   "outputs": [],
   "source": [
    "# if nltk was not installed - execute the below command \n",
    "# pip install -U nltk "
   ]
  },
  {
   "cell_type": "code",
   "execution_count": 3,
   "metadata": {},
   "outputs": [],
   "source": [
    "# dataimport pandas as pd\n",
    "import nltk\n",
    "import numpy as np\n",
    "import pandas as pd"
   ]
  },
  {
   "cell_type": "markdown",
   "metadata": {},
   "source": [
    "### Data"
   ]
  },
  {
   "cell_type": "code",
   "execution_count": 4,
   "metadata": {},
   "outputs": [],
   "source": [
    "init_path = \"data/\"\n",
    "train_data = pd.read_csv(init_path + \"train_data.csv\")\n",
    "test_data = pd.read_csv(init_path + \"test_data.csv\")\n",
    "val_data = pd.read_csv(init_path + \"val_data.csv\")\n",
    "\n",
    "def extract_data(data):\n",
    "    X = data[\"Source\"]\n",
    "    y = data[\"Label\"]\n",
    "    return np.asarray(X), np.asarray(y)\n",
    "\n",
    "X_train, y_train = extract_data(train_data)\n",
    "X_test, y_test = extract_data(test_data)\n",
    "X_val, y_val = extract_data(val_data)"
   ]
  },
  {
   "cell_type": "code",
   "execution_count": 5,
   "metadata": {},
   "outputs": [
    {
     "name": "stdout",
     "output_type": "stream",
     "text": [
      "Train labels ratio: \n",
      "Counter({3: 12586, 2: 3298, 1: 152})\n",
      "Test labels ratio: \n",
      "Counter({3: 2700, 2: 727, 1: 33})\n",
      "Val labels ratio: \n",
      "Counter({3: 2725, 2: 702, 1: 32})\n"
     ]
    }
   ],
   "source": [
    "from collections import Counter \n",
    "\n",
    "print(\"Train labels ratio: \")\n",
    "print(Counter(y_train.tolist()))\n",
    "\n",
    "print(\"Test labels ratio: \")\n",
    "print(Counter(y_test.tolist()))\n",
    "\n",
    "print(\"Val labels ratio: \")\n",
    "print(Counter(y_val.tolist()))"
   ]
  },
  {
   "cell_type": "code",
   "execution_count": 8,
   "metadata": {},
   "outputs": [
    {
     "name": "stdout",
     "output_type": "stream",
     "text": [
      "12.251468183685246\n",
      "11.389687763554424\n",
      "11.111553112963616\n",
      "9.320193231859959\n",
      "12.232324954507739\n",
      "12.86873488400248\n",
      "11.249172409956941\n",
      "12.988772611514692\n",
      "8.256087574234039\n",
      "12.950944333679734\n"
     ]
    }
   ],
   "source": [
    "for i in range(10):\n",
    "    print(compute_slor(X_train[i]))"
   ]
  }
 ],
 "metadata": {
  "kernelspec": {
   "display_name": "Python 3",
   "language": "python",
   "name": "python3"
  },
  "language_info": {
   "codemirror_mode": {
    "name": "ipython",
    "version": 3
   },
   "file_extension": ".py",
   "mimetype": "text/x-python",
   "name": "python",
   "nbconvert_exporter": "python",
   "pygments_lexer": "ipython3",
   "version": "3.12.1"
  }
 },
 "nbformat": 4,
 "nbformat_minor": 2
}
